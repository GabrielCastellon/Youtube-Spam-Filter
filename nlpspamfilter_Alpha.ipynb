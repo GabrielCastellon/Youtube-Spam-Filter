{
 "cells": [
  {
   "cell_type": "markdown",
   "metadata": {},
   "source": [
    "# Term Project - NLP Spam Filter - COMP 237"
   ]
  },
  {
   "cell_type": "markdown",
   "metadata": {},
   "source": [
    "### Load the data"
   ]
  },
  {
   "cell_type": "code",
   "execution_count": 1,
   "metadata": {},
   "outputs": [
    {
     "name": "stdout",
     "output_type": "stream",
     "text": [
      "<class 'pandas.core.frame.DataFrame'>\n",
      "RangeIndex: 350 entries, 0 to 349\n",
      "Data columns (total 5 columns):\n",
      " #   Column      Non-Null Count  Dtype \n",
      "---  ------      --------------  ----- \n",
      " 0   COMMENT_ID  350 non-null    object\n",
      " 1   AUTHOR      350 non-null    object\n",
      " 2   DATE        350 non-null    object\n",
      " 3   CONTENT     350 non-null    object\n",
      " 4   CLASS       350 non-null    int64 \n",
      "dtypes: int64(1), object(4)\n",
      "memory usage: 13.8+ KB\n",
      "None\n"
     ]
    }
   ],
   "source": [
    "import pandas as pd\n",
    "\n",
    "# Load the data into a Pandas DataFrame\n",
    "df = pd.read_csv('Youtube01-Psy.csv')\n",
    "\n",
    "# Display basic information about the DataFrame\n",
    "print(df.info())"
   ]
  },
  {
   "cell_type": "markdown",
   "metadata": {},
   "source": [
    "### Prepare the Data for Model Building using NLTK\n"
   ]
  },
  {
   "cell_type": "code",
   "execution_count": 2,
   "metadata": {},
   "outputs": [
    {
     "name": "stdout",
     "output_type": "stream",
     "text": [
      "Shape after Count Vectorization: (350, 1418)\n",
      "Shape after TF-IDF Transformation: (350, 1418)\n"
     ]
    }
   ],
   "source": [
    "from sklearn.feature_extraction.text import CountVectorizer\n",
    "from sklearn.feature_extraction.text import TfidfTransformer\n",
    "from sklearn.model_selection import train_test_split\n",
    "from sklearn.naive_bayes import MultinomialNB\n",
    "from sklearn.model_selection import cross_val_score\n",
    "from sklearn.metrics import confusion_matrix, accuracy_score\n",
    "\n",
    "# Select relevant columns\n",
    "data = df[['CONTENT', 'CLASS']]\n",
    "\n",
    "# Tokenize and vectorize the text using CountVectorizer\n",
    "count_vectorizer = CountVectorizer()\n",
    "X_counts = count_vectorizer.fit_transform(data['CONTENT'])\n",
    "\n",
    "# Downscale the transformed data using TF-IDF\n",
    "tfidf_transformer = TfidfTransformer()\n",
    "X_tfidf = tfidf_transformer.fit_transform(X_counts)\n",
    "\n",
    "# Display highlights of the output\n",
    "print(\"Shape after Count Vectorization:\", X_counts.shape)\n",
    "print(\"Shape after TF-IDF Transformation:\", X_tfidf.shape)"
   ]
  },
  {
   "cell_type": "markdown",
   "metadata": {},
   "source": [
    "### Suffle and Split the data into train and test sets"
   ]
  },
  {
   "cell_type": "code",
   "execution_count": 3,
   "metadata": {},
   "outputs": [],
   "source": [
    "# Shuffle the dataset\n",
    "df_shuffled = df.sample(frac=1, random_state=42)\n",
    "\n",
    "# Split the dataset into training (75%) and testing (25%)\n",
    "train_size = int(0.75 * len(df_shuffled))\n",
    "train_data, test_data = df_shuffled[:train_size], df_shuffled[train_size:]\n",
    "\n",
    "# Separate class from features\n",
    "X_train = train_data['CONTENT']\n",
    "y_train = train_data['CLASS']\n",
    "X_test = test_data['CONTENT']\n",
    "y_test = test_data['CLASS']"
   ]
  },
  {
   "cell_type": "markdown",
   "metadata": {},
   "source": [
    "### Fit Naive Bayes classifier and cross-validate"
   ]
  },
  {
   "cell_type": "code",
   "execution_count": 4,
   "metadata": {},
   "outputs": [
    {
     "name": "stdout",
     "output_type": "stream",
     "text": [
      "Mean Cross-Validation Accuracy: 0.9539912917271408\n"
     ]
    }
   ],
   "source": [
    "# Fit the training data into a Naive Bayes classifier\n",
    "classifier = MultinomialNB()\n",
    "classifier.fit(count_vectorizer.transform(X_train), y_train)\n",
    "\n",
    "# Cross-validate the model on the training data\n",
    "cv_scores = cross_val_score(classifier, count_vectorizer.transform(X_train), y_train, cv=5)\n",
    "print(\"Mean Cross-Validation Accuracy:\", cv_scores.mean())"
   ]
  },
  {
   "cell_type": "markdown",
   "metadata": {},
   "source": [
    "### Test the model on test set and check the accuracy"
   ]
  },
  {
   "cell_type": "code",
   "execution_count": 5,
   "metadata": {},
   "outputs": [
    {
     "name": "stdout",
     "output_type": "stream",
     "text": [
      "Confusion Matrix:\n",
      " [[42  3]\n",
      " [ 1 42]]\n",
      "Accuracy on Test Data: 0.9545454545454546\n"
     ]
    }
   ],
   "source": [
    "# Test the model on the test data\n",
    "y_pred = classifier.predict(count_vectorizer.transform(X_test))\n",
    "\n",
    "# Print confusion matrix and accuracy\n",
    "print(\"Confusion Matrix:\\n\", confusion_matrix(y_test, y_pred))\n",
    "print(\"Accuracy on Test Data:\", accuracy_score(y_test, y_pred))"
   ]
  },
  {
   "cell_type": "markdown",
   "metadata": {},
   "source": [
    "### Pass new comments to classifier and check whether it is spam or not"
   ]
  },
  {
   "cell_type": "code",
   "execution_count": 12,
   "metadata": {},
   "outputs": [
    {
     "name": "stdout",
     "output_type": "stream",
     "text": [
      "\n",
      "Predictions for New Comments:\n",
      "                                              Comment  Prediction\n",
      "0  The way this video had a chokehold on me is crazy           0\n",
      "1                         I am here to see the views           0\n",
      "2                I love the content on this channel.           0\n",
      "3                      Check out my new music video!           1\n",
      "4  Get free iPhone by clicking the link: freeipho...           1\n",
      "5         Subscribe to my channel for great content!           1\n",
      "6  If you want to escape the matrix, check out my...           1\n"
     ]
    }
   ],
   "source": [
    "# Create new comments\n",
    "new_comments = [\n",
    "    \"The way this video had a chokehold on me is crazy\",\n",
    "    \"I am here to see the views\",\n",
    "    \"I love the content on this channel.\",\n",
    "    \"Check out my new music video!\",\n",
    "    \"Get free iPhone by clicking the link: freeiphone.com\",\n",
    "    \"Subscribe to my channel for great content!\",\n",
    "    \"If you want to escape the matrix, check out my channel\"\n",
    "]\n",
    "\n",
    "# Pass new comments to the classifier\n",
    "new_comments_vectorized = count_vectorizer.transform(new_comments)\n",
    "predictions = classifier.predict(new_comments_vectorized)\n",
    "\n",
    "# Display results\n",
    "results = pd.DataFrame({'Comment': new_comments, 'Prediction': predictions})\n",
    "print(\"\\nPredictions for New Comments:\\n\", results)"
   ]
  }
 ],
 "metadata": {
  "kernelspec": {
   "display_name": "base",
   "language": "python",
   "name": "python3"
  },
  "language_info": {
   "codemirror_mode": {
    "name": "ipython",
    "version": 3
   },
   "file_extension": ".py",
   "mimetype": "text/x-python",
   "name": "python",
   "nbconvert_exporter": "python",
   "pygments_lexer": "ipython3",
   "version": "3.11.2"
  }
 },
 "nbformat": 4,
 "nbformat_minor": 2
}
